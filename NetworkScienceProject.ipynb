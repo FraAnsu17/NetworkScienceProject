{
  "nbformat": 4,
  "nbformat_minor": 0,
  "metadata": {
    "colab": {
      "provenance": []
    },
    "kernelspec": {
      "name": "python3",
      "display_name": "Python 3"
    },
    "language_info": {
      "name": "python"
    }
  },
  "cells": [
    {
      "cell_type": "markdown",
      "source": [
        "# Initialization"
      ],
      "metadata": {
        "id": "0pKvJYga1Q57"
      }
    },
    {
      "cell_type": "code",
      "source": [
        "%%capture\n",
        "!pip install scikit-network\n",
        "!pip install leidenalg\n",
        "!pip install pandas networkx\n",
        "!pip install python-igraph"
      ],
      "metadata": {
        "id": "aTKgG9UnzbzQ"
      },
      "execution_count": null,
      "outputs": []
    },
    {
      "cell_type": "code",
      "source": [
        "from IPython.display import SVG\n",
        "import numpy as np\n",
        "from sknetwork.data import karate_club, painters, movie_actor\n",
        "from sknetwork.clustering import Louvain, get_modularity\n",
        "from sknetwork.linalg import normalize\n",
        "from sknetwork.utils import get_membership\n",
        "from sknetwork.visualization import svg_graph, svg_bigraph\n",
        "import pandas as pd\n",
        "import networkx as nx\n",
        "import leidenalg as la\n",
        "import igraph as ig\n",
        "from google.colab import files\n",
        "import matplotlib.pyplot as plt\n",
        "from sklearn import metrics"
      ],
      "metadata": {
        "id": "xs-SXMkiy-84"
      },
      "execution_count": null,
      "outputs": []
    },
    {
      "cell_type": "markdown",
      "source": [
        "# Centrality"
      ],
      "metadata": {
        "id": "xrcPtP1N1Uz0"
      }
    },
    {
      "cell_type": "code",
      "source": [
        "# Read adjacency matrix from CSV file\n",
        "adj_matrix_df = pd.read_csv(\"Export_AdjacencyMatrix.csv\", index_col=0)"
      ],
      "metadata": {
        "id": "B3xpei-Ag3MO"
      },
      "execution_count": null,
      "outputs": []
    },
    {
      "cell_type": "code",
      "source": [
        "node_labels = adj_matrix_df.index.tolist()"
      ],
      "metadata": {
        "id": "XC8zkQ1bnJJk"
      },
      "execution_count": null,
      "outputs": []
    },
    {
      "cell_type": "code",
      "source": [
        "# Convert dataframe to a NumPy matrix\n",
        "adj_matrix = adj_matrix_df.to_numpy()\n",
        "\n",
        "# Create a directed graph from the adjacency matrix\n",
        "g = nx.DiGraph(adj_matrix)"
      ],
      "metadata": {
        "id": "SkRPSz9ehCTy"
      },
      "execution_count": null,
      "outputs": []
    },
    {
      "cell_type": "code",
      "source": [
        "# Compute betweenness centrality\n",
        "centrality = nx.betweenness_centrality(g)\n",
        "\n",
        "btw = list(centrality.values())\n",
        "\n",
        "# Print the betweenness centrality scores\n",
        "print(centrality)"
      ],
      "metadata": {
        "id": "SEychSgthDqa",
        "colab": {
          "base_uri": "https://localhost:8080/"
        },
        "outputId": "fdc388fe-70d2-4d6d-fa82-5b3a7157419d"
      },
      "execution_count": null,
      "outputs": [
        {
          "output_type": "stream",
          "name": "stdout",
          "text": [
            "{0: 0.00012459587213477447, 1: 0.0005264485016724181, 2: 0.000676712976849718, 3: 0.0, 4: 0.00031021878553710424, 5: 0.0008390840453440358, 6: 0.0011095423669259853, 7: 0.0, 8: 0.00044808300906239276, 9: 0.0011853095012194317, 10: 0.00021573788381437607, 11: 1.0265874494356641e-05, 12: 0.00644911701846214, 13: 0.0038527185874128343, 14: 0.00038913947414471437, 15: 0.00010599362705437671, 16: 0.001105031257236823, 17: 0.002736915977207304, 18: 0.0008565066624064676, 19: 0.0008865866263687449, 20: 0.007778205055757432, 21: 0.00022775851311376282, 22: 0.00046431384556557974, 23: 2.8164972394798915e-05, 24: 3.786971216642842e-06, 25: 0.0002909452094295429, 26: 0.0, 27: 0.00041478696121872435, 28: 0.0002602865315882785, 29: 0.0, 30: 0.0, 31: 0.005111958946590752, 32: 0.0, 33: 0.0, 34: 9.37347794863669e-05, 35: 0.0021430678995923123, 36: 0.0, 37: 0.00039844992970677635, 38: 7.789749387082995e-05, 39: 0.0012375355753446921, 40: 0.000988468606354005, 41: 0.008380317882851223, 42: 9.059014761143426e-06, 43: 1.8004320456860592e-06, 44: 7.305573879282988e-05, 45: 0.0, 46: 0.002234742040223372, 47: 0.007729182240427067, 48: 0.0, 49: 0.0, 50: 0.002338642671661568, 51: 4.732281247814686e-05, 52: 0.0, 53: 0.0004980141269201404, 54: 2.6499655435348186e-05, 55: 0.0009898869507118026, 56: 0.0007534231930957597, 57: 0.0013028151118431614, 58: 0.0, 59: 0.0, 60: 0.001975627884742539, 61: 0.003041775791441248, 62: 0.00502508950471929, 63: 0.0010974945841755292, 64: 0.000299355824881559, 65: 0.002234410979542863, 66: 0.0, 67: 0.0011256523806777467, 68: 0.002271729788290237, 69: 0.00042947575699458097, 70: 0.0, 71: 0.0, 72: 0.001248744327862513, 73: 0.0003448157664597902, 74: 0.0007550369070640337, 75: 7.782803114021507e-05, 76: 0.0, 77: 0.0011534391076728579, 78: 0.0035430135121905944, 79: 2.8918380760424336e-05, 80: 0.0, 81: 0.009215816758784889, 82: 0.00020876687470121414, 83: 0.004105415263354406, 84: 6.822016535491408e-05, 85: 0.0004661961974782809, 86: 0.009185374295216367, 87: 0.0015528567060234732, 88: 0.0, 89: 0.004208909635804672, 90: 7.517452138945515e-06, 91: 0.00019919821376937643, 92: 0.0, 93: 0.0006584015417648828, 94: 0.0003570894770008297, 95: 0.0, 96: 0.0007634135857139232, 97: 0.0, 98: 0.0, 99: 0.0, 100: 0.00033524866688341856, 101: 0.004737328405856154, 102: 0.0029402169219595225, 103: 0.0010591439452093808, 104: 0.006481764483879663, 105: 0.005289871550412329, 106: 0.0007172985012837636, 107: 4.239817566188434e-05, 108: 0.0045345004240077025, 109: 0.002776943206491056, 110: 0.008311974239102007, 111: 0.0015212851834612415, 112: 0.00638807919198947, 113: 0.0009533164958406934, 114: 0.00041876510668591355, 115: 0.002169344079049944, 116: 2.756232149581711e-05, 117: 0.0, 118: 0.007554596371787215, 119: 0.0009202047841265368, 120: 0.00014926497021957013, 121: 0.00013777867651512275, 122: 0.0018130083295068117, 123: 0.0022252609137636058, 124: 7.921421928777468e-05, 125: 0.0, 126: 0.00020268653563063099, 127: 0.001665949502651084, 128: 0.002148731150764369, 129: 4.248802304217134e-05, 130: 0.0009427736853928033, 131: 0.00027719810799553974, 132: 0.006235486438289995, 133: 4.56495275424233e-05, 134: 0.00030861444019560373, 135: 0.0012945207173202396, 136: 0.0, 137: 0.00025528320883285593, 138: 0.0008909471966733807, 139: 0.0, 140: 0.0013819969045763467, 141: 1.0427822396697949e-05, 142: 0.00039384409842571237, 143: 4.8276413470447465e-05, 144: 0.0, 145: 3.329769579551592e-05, 146: 0.0020675863794671046, 147: 0.0006974144558324487, 148: 0.00041198526588369936, 149: 0.000817082614706377, 150: 0.0, 151: 0.00046701614797721946, 152: 0.011248320309394329, 153: 0.0, 154: 0.0004070443841315318, 155: 0.0046051829014098185, 156: 0.00023614798897624378, 157: 0.0002307641482865486, 158: 0.0011665062858909668, 159: 0.0, 160: 0.0, 161: 0.0002709229518382, 162: 0.0, 163: 0.004235544003768132, 164: 1.5742752909076765e-05, 165: 0.0015611892529101387, 166: 0.003299096865274815, 167: 1.7411346290020957e-05, 168: 0.0011333399454501025, 169: 0.000486788545312602, 170: 0.00032547121828131205, 171: 0.0044642769680548105, 172: 0.004483387863158189, 173: 0.0, 174: 0.004868245922318619, 175: 0.004904168158458184, 176: 0.0013961984749604496, 177: 0.0, 178: 0.0034501287328187183, 179: 0.0003630177176415008, 180: 0.0, 181: 0.0, 182: 0.0, 183: 0.0, 184: 0.00012762089578656347, 185: 0.0, 186: 4.809304987424257e-06, 187: 0.002800887195038542, 188: 0.0009765722456920064, 189: 0.0, 190: 0.00013549825616289128, 191: 0.00011226482721301179, 192: 0.0059027213390347956, 193: 0.0016223041800047864, 194: 0.002264793948127489, 195: 0.00016018985588352094, 196: 0.0, 197: 0.004892783163304344, 198: 0.0, 199: 0.0, 200: 0.007550343937264672, 201: 0.0017342623289519471, 202: 0.00018600658535756852, 203: 0.0003150012778214108, 204: 0.00025649552685021794, 205: 0.0, 206: 0.0006854343531190446, 207: 0.005330200946766123, 208: 0.00682998283854672, 209: 0.0014643282028068009, 210: 3.262495166928011e-05, 211: 0.0012029610701754494, 212: 0.00690054368668345, 213: 0.0002951632744439305, 214: 0.0, 215: 0.00012442349604230277, 216: 0.0013334519865069745, 217: 0.0012788191791559267, 218: 0.006071866409317928, 219: 0.0, 220: 1.5682943354405276e-05, 221: 0.0, 222: 0.0007356313524879927, 223: 0.004094961796403418, 224: 0.006079686606426641, 225: 0.011939385243938483, 226: 0.019124627869598294, 227: 0.0, 228: 0.0013010799104432528, 229: 0.00033613891134762203, 230: 0.0002157133234027455, 231: 0.00040268054579081346, 232: 0.0010930706478248426, 233: 0.0, 234: 0.0, 235: 2.7068626105336636e-05, 236: 0.00041149186240799923, 237: 0.0002796297092444406}\n"
          ]
        }
      ]
    },
    {
      "cell_type": "code",
      "source": [
        "# Compute PageRank centrality\n",
        "pagerank_centrality = nx.pagerank(g)\n",
        "\n",
        "PR = list(pagerank_centrality.values())\n",
        "\n",
        "# Print the PageRank centrality scores\n",
        "print(\"PageRank Centrality:\")\n",
        "for node, score in pagerank_centrality.items():\n",
        "    print(f\"Node {node}: {score}\")"
      ],
      "metadata": {
        "id": "6lTGtGdSkgcn"
      },
      "execution_count": null,
      "outputs": []
    },
    {
      "cell_type": "code",
      "source": [
        "selected_node = 226 # USA\n",
        "\n",
        "# Compute local PageRank for the selected node\n",
        "local_pagerank_USA = nx.pagerank(g, personalization={selected_node: 1.0})\n",
        "\n",
        "LPR_USA = list(local_pagerank_USA.values())\n",
        "\n",
        "print(f\"Local PageRank for {selected_node}:\")\n",
        "for node, score in local_pagerank_USA.items():\n",
        "    print(f\"Node {node}: {score}\")"
      ],
      "metadata": {
        "id": "jGLz-nmelqXs"
      },
      "execution_count": null,
      "outputs": []
    },
    {
      "cell_type": "code",
      "source": [
        "selected_node = 47 # China\n",
        "\n",
        "# Compute local PageRank for the selected node\n",
        "local_pagerank_China = nx.pagerank(g, personalization={selected_node: 1.0})\n",
        "\n",
        "LPR_China = list(local_pagerank_China.values())\n",
        "\n",
        "print(f\"Local PageRank for {selected_node}:\")\n",
        "for node, score in local_pagerank_China.items():\n",
        "    print(f\"Node {node}: {score}\")"
      ],
      "metadata": {
        "id": "UpWh6KuomNXK"
      },
      "execution_count": null,
      "outputs": []
    },
    {
      "cell_type": "code",
      "source": [
        "selected_node = 110 # Italy\n",
        "\n",
        "# Compute local PageRank for the selected node\n",
        "local_pagerank_Italy = nx.pagerank(g, personalization={selected_node: 1.0})\n",
        "\n",
        "LPR_Italy = list(local_pagerank_Italy.values())\n",
        "\n",
        "print(f\"Local PageRank for {selected_node}:\")\n",
        "for node, score in local_pagerank_Italy.items():\n",
        "    print(f\"Node {node}: {score}\")"
      ],
      "metadata": {
        "id": "2z1ICi_qmggJ"
      },
      "execution_count": null,
      "outputs": []
    },
    {
      "cell_type": "code",
      "source": [
        "result_df = pd.DataFrame({\n",
        "    'node_labels': node_labels,\n",
        "    'Betweenness': btw,\n",
        "    'PageRank': PR,\n",
        "    'LPR USA':LPR_USA,\n",
        "    'LPR China':LPR_China,\n",
        "    'LPR Italy':LPR_Italy\n",
        "})\n",
        "\n",
        "# Save the DataFrame to a CSV file\n",
        "result_df.to_csv(\"centrality_results.csv\", index=False)"
      ],
      "metadata": {
        "id": "J8quikQwof0w"
      },
      "execution_count": null,
      "outputs": []
    },
    {
      "cell_type": "code",
      "source": [
        "files.download(\"centrality_results.csv\")"
      ],
      "metadata": {
        "id": "DWsQdWh7pPK0"
      },
      "execution_count": null,
      "outputs": []
    },
    {
      "cell_type": "markdown",
      "source": [
        "# Export Total"
      ],
      "metadata": {
        "id": "oXN9DwjMI67T"
      }
    },
    {
      "cell_type": "code",
      "source": [
        "# Load your adjacency matrix from CSV\n",
        "adjacency_df = pd.read_csv(\"Export_AdjacencyMatrix.csv\", index_col=0)  # Assuming row names are in the first column\n",
        "adjacency = adjacency_df.values  # Extract the numeric values from DataFrame\n"
      ],
      "metadata": {
        "id": "mhNuRL69I91A"
      },
      "execution_count": null,
      "outputs": []
    },
    {
      "cell_type": "code",
      "source": [
        "resolution_values = np.arange(0.5, 3.1, 0.1).tolist()\n",
        "mod = []\n",
        "for r in resolution_values:\n",
        "  resolution_parameter = r # Adjust the resolution parameter as needed\n",
        "  louvain = Louvain(resolution=resolution_parameter)\n",
        "  labels = louvain.fit_predict(adjacency)\n",
        "  labels_unique, counts = np.unique(labels, return_counts=True)\n",
        "  mod.append(get_modularity(adjacency, labels))\n",
        "\n",
        "# Find the maximum value in the list\n",
        "max_mod = max(mod)\n",
        "\n",
        "# Find the index of the maximum value in the list\n",
        "max_index = mod.index(max_mod)\n",
        "r_max = resolution_values[max_index]\n",
        "\n",
        "print(f\"Resolution yielding maximum modularity is {r_max}\")\n",
        "resolution_parameter = r_max # Adjust the resolution parameter as needed\n",
        "louvain = Louvain(resolution=resolution_parameter)\n",
        "labels = louvain.fit_predict(adjacency)\n",
        "labels_unique, counts = np.unique(labels, return_counts=True)\n",
        "mod.append(get_modularity(adjacency, labels))\n",
        "print(labels_unique, counts)\n",
        "print(get_modularity(adjacency, labels))"
      ],
      "metadata": {
        "colab": {
          "base_uri": "https://localhost:8080/"
        },
        "id": "lJUCs0UwI91B",
        "outputId": "718097bf-3b6b-40ff-c2f6-d4508a4a8055"
      },
      "execution_count": null,
      "outputs": [
        {
          "output_type": "stream",
          "name": "stdout",
          "text": [
            "Resolution yielding maximum modularity is 0.9999999999999999\n",
            "[0 1 2 3] [76 63 58 41]\n",
            "0.292056800372797\n"
          ]
        }
      ]
    },
    {
      "cell_type": "code",
      "source": [
        "resolution_parameter = 0.9 # Adjust the resolution parameter as needed\n",
        "louvain = Louvain(resolution=resolution_parameter)\n",
        "labels = louvain.fit_predict(adjacency)\n",
        "labels_unique, counts = np.unique(labels, return_counts=True)\n",
        "print(f\"Resolution = {resolution_parameter}\")\n",
        "print(labels_unique, counts)\n",
        "print(get_modularity(adjacency, labels))\n",
        "print(\"-------------\")"
      ],
      "metadata": {
        "colab": {
          "base_uri": "https://localhost:8080/"
        },
        "outputId": "c8b30423-0bc1-49cd-936c-ca1d6299c564",
        "id": "v1-wTrdbI91B"
      },
      "execution_count": null,
      "outputs": [
        {
          "output_type": "stream",
          "name": "stdout",
          "text": [
            "Resolution = 0.9\n",
            "[0 1 2 3 4 5] [92 86 44 16  3  1]\n",
            "0.3278213490591159\n",
            "-------------\n"
          ]
        }
      ]
    },
    {
      "cell_type": "code",
      "source": [
        "country_communities_df = pd.DataFrame({\n",
        "    'Country': adjacency_df.index,\n",
        "    'Community': labels\n",
        "})\n",
        "\n",
        "# Output the DataFrame\n",
        "country_communities_df.to_csv(\"Louvain_Export_Python.csv\", index=False)\n",
        "files.download(\"Louvain_Export_Python.csv\")"
      ],
      "metadata": {
        "colab": {
          "base_uri": "https://localhost:8080/",
          "height": 17
        },
        "outputId": "d06c093e-1e95-4d4f-c50e-eb5457acff34",
        "id": "xHmPihxLI91C"
      },
      "execution_count": null,
      "outputs": [
        {
          "output_type": "display_data",
          "data": {
            "text/plain": [
              "<IPython.core.display.Javascript object>"
            ],
            "application/javascript": [
              "\n",
              "    async function download(id, filename, size) {\n",
              "      if (!google.colab.kernel.accessAllowed) {\n",
              "        return;\n",
              "      }\n",
              "      const div = document.createElement('div');\n",
              "      const label = document.createElement('label');\n",
              "      label.textContent = `Downloading \"${filename}\": `;\n",
              "      div.appendChild(label);\n",
              "      const progress = document.createElement('progress');\n",
              "      progress.max = size;\n",
              "      div.appendChild(progress);\n",
              "      document.body.appendChild(div);\n",
              "\n",
              "      const buffers = [];\n",
              "      let downloaded = 0;\n",
              "\n",
              "      const channel = await google.colab.kernel.comms.open(id);\n",
              "      // Send a message to notify the kernel that we're ready.\n",
              "      channel.send({})\n",
              "\n",
              "      for await (const message of channel.messages) {\n",
              "        // Send a message to notify the kernel that we're ready.\n",
              "        channel.send({})\n",
              "        if (message.buffers) {\n",
              "          for (const buffer of message.buffers) {\n",
              "            buffers.push(buffer);\n",
              "            downloaded += buffer.byteLength;\n",
              "            progress.value = downloaded;\n",
              "          }\n",
              "        }\n",
              "      }\n",
              "      const blob = new Blob(buffers, {type: 'application/binary'});\n",
              "      const a = document.createElement('a');\n",
              "      a.href = window.URL.createObjectURL(blob);\n",
              "      a.download = filename;\n",
              "      div.appendChild(a);\n",
              "      a.click();\n",
              "      div.remove();\n",
              "    }\n",
              "  "
            ]
          },
          "metadata": {}
        },
        {
          "output_type": "display_data",
          "data": {
            "text/plain": [
              "<IPython.core.display.Javascript object>"
            ],
            "application/javascript": [
              "download(\"download_7e7c0f15-61c7-4e38-b9a5-986c5f3b96b5\", \"Louvain_Export_Python.csv\", 3163)"
            ]
          },
          "metadata": {}
        }
      ]
    },
    {
      "cell_type": "markdown",
      "source": [
        "# Mean Adjacency Matrix"
      ],
      "metadata": {
        "id": "qnN0Hs9SJkui"
      }
    },
    {
      "cell_type": "code",
      "source": [
        "# Load your adjacency matrix from CSV\n",
        "adjacency_df = pd.read_csv(\"MeanAdjacencyMatrix.csv\", index_col=0, encoding='latin-1')  # Assuming row names are in the first column\n",
        "adjacency = adjacency_df.values  # Extract the numeric values from DataFrame\n"
      ],
      "metadata": {
        "id": "lcT-O8SrJnE_"
      },
      "execution_count": null,
      "outputs": []
    },
    {
      "cell_type": "code",
      "source": [
        "resolution_values = np.arange(0.5, 3.1, 0.1).tolist()\n",
        "mod = []\n",
        "for r in resolution_values:\n",
        "  resolution_parameter = r # Adjust the resolution parameter as needed\n",
        "  louvain = Louvain(resolution=resolution_parameter)\n",
        "  labels = louvain.fit_predict(adjacency)\n",
        "  labels_unique, counts = np.unique(labels, return_counts=True)\n",
        "  mod.append(get_modularity(adjacency, labels))\n",
        "\n",
        "# Find the maximum value in the list\n",
        "max_mod = max(mod)\n",
        "\n",
        "# Find the index of the maximum value in the list\n",
        "max_index = mod.index(max_mod)\n",
        "r_max = resolution_values[max_index]\n",
        "\n",
        "print(f\"Resolution yielding maximum modularity is {r_max}\")\n",
        "resolution_parameter = r_max # Adjust the resolution parameter as needed\n",
        "louvain = Louvain(resolution=resolution_parameter)\n",
        "labels = louvain.fit_predict(adjacency)\n",
        "labels_unique, counts = np.unique(labels, return_counts=True)\n",
        "mod.append(get_modularity(adjacency, labels))\n",
        "print(labels_unique, counts)\n",
        "print(get_modularity(adjacency, labels))"
      ],
      "metadata": {
        "colab": {
          "base_uri": "https://localhost:8080/"
        },
        "outputId": "cfd98c99-2198-4de5-e9dc-a0d1ed9f0368",
        "id": "XQX45VUTJnFH"
      },
      "execution_count": null,
      "outputs": [
        {
          "output_type": "stream",
          "name": "stdout",
          "text": [
            "Resolution yielding maximum modularity is 1.0999999999999999\n",
            "[0 1 2 3 4 5] [82 41 36 36 27 19]\n",
            "0.34641386157660503\n"
          ]
        }
      ]
    },
    {
      "cell_type": "code",
      "source": [
        "country_communities_df = pd.DataFrame({\n",
        "    'Country': adjacency_df.index,\n",
        "    'Community': labels\n",
        "})\n",
        "\n",
        "country_communities_df.to_csv(\"Louvain_MeanAdjMat.csv\", index=False)\n",
        "files.download(\"Louvain_MeanAdjMat.csv\")"
      ],
      "metadata": {
        "colab": {
          "base_uri": "https://localhost:8080/",
          "height": 17
        },
        "outputId": "e3d026e0-451e-40a3-a7f7-b04c3770f70c",
        "id": "7kfhyvAEJnFI"
      },
      "execution_count": null,
      "outputs": [
        {
          "output_type": "display_data",
          "data": {
            "text/plain": [
              "<IPython.core.display.Javascript object>"
            ],
            "application/javascript": [
              "\n",
              "    async function download(id, filename, size) {\n",
              "      if (!google.colab.kernel.accessAllowed) {\n",
              "        return;\n",
              "      }\n",
              "      const div = document.createElement('div');\n",
              "      const label = document.createElement('label');\n",
              "      label.textContent = `Downloading \"${filename}\": `;\n",
              "      div.appendChild(label);\n",
              "      const progress = document.createElement('progress');\n",
              "      progress.max = size;\n",
              "      div.appendChild(progress);\n",
              "      document.body.appendChild(div);\n",
              "\n",
              "      const buffers = [];\n",
              "      let downloaded = 0;\n",
              "\n",
              "      const channel = await google.colab.kernel.comms.open(id);\n",
              "      // Send a message to notify the kernel that we're ready.\n",
              "      channel.send({})\n",
              "\n",
              "      for await (const message of channel.messages) {\n",
              "        // Send a message to notify the kernel that we're ready.\n",
              "        channel.send({})\n",
              "        if (message.buffers) {\n",
              "          for (const buffer of message.buffers) {\n",
              "            buffers.push(buffer);\n",
              "            downloaded += buffer.byteLength;\n",
              "            progress.value = downloaded;\n",
              "          }\n",
              "        }\n",
              "      }\n",
              "      const blob = new Blob(buffers, {type: 'application/binary'});\n",
              "      const a = document.createElement('a');\n",
              "      a.href = window.URL.createObjectURL(blob);\n",
              "      a.download = filename;\n",
              "      div.appendChild(a);\n",
              "      a.click();\n",
              "      div.remove();\n",
              "    }\n",
              "  "
            ]
          },
          "metadata": {}
        },
        {
          "output_type": "display_data",
          "data": {
            "text/plain": [
              "<IPython.core.display.Javascript object>"
            ],
            "application/javascript": [
              "download(\"download_b1f5a4a5-9b50-4738-ae10-4f7a4d9b3d27\", \"Louvain_MeanAdjMat.csv\", 3194)"
            ]
          },
          "metadata": {}
        }
      ]
    },
    {
      "cell_type": "markdown",
      "source": [
        "# Agriculture"
      ],
      "metadata": {
        "id": "wb8YNYOEzv9l"
      }
    },
    {
      "cell_type": "code",
      "source": [
        "# Load your adjacency matrix from CSV\n",
        "adjacency_df = pd.read_csv(\"Agric_AdjacencyMatrix.csv\", index_col=0)  # Assuming row names are in the first column\n",
        "adjacency = adjacency_df.values  # Extract the numeric values from DataFrame\n"
      ],
      "metadata": {
        "id": "hKcVlCW31RZ7"
      },
      "execution_count": null,
      "outputs": []
    },
    {
      "cell_type": "code",
      "source": [
        "resolution_values = np.arange(0.5, 3.1, 0.1).tolist()\n",
        "mod = []\n",
        "for r in resolution_values:\n",
        "  resolution_parameter = r # Adjust the resolution parameter as needed\n",
        "  louvain = Louvain(resolution=resolution_parameter)\n",
        "  labels = louvain.fit_predict(adjacency)\n",
        "  labels_unique, counts = np.unique(labels, return_counts=True)\n",
        "  mod.append(get_modularity(adjacency, labels))\n",
        "\n",
        "# Find the maximum value in the list\n",
        "max_mod = max(mod)\n",
        "\n",
        "# Find the index of the maximum value in the list\n",
        "max_index = mod.index(max_mod)\n",
        "r_max = resolution_values[max_index]\n",
        "\n",
        "print(f\"Resolution yielding maximum modularity is {r_max}\")\n",
        "resolution_parameter = r_max # Adjust the resolution parameter as needed\n",
        "louvain = Louvain(resolution=resolution_parameter)\n",
        "labels = louvain.fit_predict(adjacency)\n",
        "labels_unique, counts = np.unique(labels, return_counts=True)\n",
        "mod.append(get_modularity(adjacency, labels))\n",
        "print(labels_unique, counts)\n",
        "print(get_modularity(adjacency, labels))"
      ],
      "metadata": {
        "id": "0CgJB2Ld0mEd",
        "colab": {
          "base_uri": "https://localhost:8080/"
        },
        "outputId": "f43581d7-f0fa-4a49-ec4c-ae2bc5662780"
      },
      "execution_count": null,
      "outputs": [
        {
          "output_type": "stream",
          "name": "stdout",
          "text": [
            "Resolution yielding maximum modularity is 0.8999999999999999\n",
            "[0 1 2 3 4 5] [92 86 44 16  3  1]\n",
            "0.3278213490591159\n"
          ]
        }
      ]
    },
    {
      "cell_type": "code",
      "source": [
        "country_communities_df = pd.DataFrame({\n",
        "    'Country': adjacency_df.index,\n",
        "    'Community': labels\n",
        "})\n",
        "\n",
        "# Output the DataFrame\n",
        "print(country_communities_df)"
      ],
      "metadata": {
        "colab": {
          "base_uri": "https://localhost:8080/"
        },
        "id": "9zfBjrXS2Oq7",
        "outputId": "f289bbda-f639-4bcb-a67b-488c44d736a0"
      },
      "execution_count": null,
      "outputs": [
        {
          "output_type": "stream",
          "name": "stdout",
          "text": [
            "                    Country  Community\n",
            "0               Afghanistan          0\n",
            "1                   Albania          1\n",
            "2                   Algeria          1\n",
            "3            American Samoa          0\n",
            "4                   Andorra          1\n",
            "..                      ...        ...\n",
            "237  Wallis and Futura Isl.          0\n",
            "238          Western Sahara          1\n",
            "239                   Yemen          1\n",
            "240                  Zambia          0\n",
            "241                Zimbabwe          0\n",
            "\n",
            "[242 rows x 2 columns]\n"
          ]
        }
      ]
    },
    {
      "cell_type": "code",
      "source": [
        "country_communities_df.to_csv(\"Louvain_Agricolture.csv\", index=False)\n",
        "files.download(\"Louvain_Agricolture.csv\")"
      ],
      "metadata": {
        "colab": {
          "base_uri": "https://localhost:8080/",
          "height": 17
        },
        "id": "0z4eD0g12i-d",
        "outputId": "03961c70-2910-4429-d526-069909c8a0eb"
      },
      "execution_count": null,
      "outputs": [
        {
          "output_type": "display_data",
          "data": {
            "text/plain": [
              "<IPython.core.display.Javascript object>"
            ],
            "application/javascript": [
              "\n",
              "    async function download(id, filename, size) {\n",
              "      if (!google.colab.kernel.accessAllowed) {\n",
              "        return;\n",
              "      }\n",
              "      const div = document.createElement('div');\n",
              "      const label = document.createElement('label');\n",
              "      label.textContent = `Downloading \"${filename}\": `;\n",
              "      div.appendChild(label);\n",
              "      const progress = document.createElement('progress');\n",
              "      progress.max = size;\n",
              "      div.appendChild(progress);\n",
              "      document.body.appendChild(div);\n",
              "\n",
              "      const buffers = [];\n",
              "      let downloaded = 0;\n",
              "\n",
              "      const channel = await google.colab.kernel.comms.open(id);\n",
              "      // Send a message to notify the kernel that we're ready.\n",
              "      channel.send({})\n",
              "\n",
              "      for await (const message of channel.messages) {\n",
              "        // Send a message to notify the kernel that we're ready.\n",
              "        channel.send({})\n",
              "        if (message.buffers) {\n",
              "          for (const buffer of message.buffers) {\n",
              "            buffers.push(buffer);\n",
              "            downloaded += buffer.byteLength;\n",
              "            progress.value = downloaded;\n",
              "          }\n",
              "        }\n",
              "      }\n",
              "      const blob = new Blob(buffers, {type: 'application/binary'});\n",
              "      const a = document.createElement('a');\n",
              "      a.href = window.URL.createObjectURL(blob);\n",
              "      a.download = filename;\n",
              "      div.appendChild(a);\n",
              "      a.click();\n",
              "      div.remove();\n",
              "    }\n",
              "  "
            ]
          },
          "metadata": {}
        },
        {
          "output_type": "display_data",
          "data": {
            "text/plain": [
              "<IPython.core.display.Javascript object>"
            ],
            "application/javascript": [
              "download(\"download_24378566-3fba-4cf0-be7a-3b7415bcb6e6\", \"Louvain_Agricolture.csv\", 3206)"
            ]
          },
          "metadata": {}
        }
      ]
    },
    {
      "cell_type": "markdown",
      "source": [
        "# Food Product"
      ],
      "metadata": {
        "id": "bzZK9mDE4ZXH"
      }
    },
    {
      "cell_type": "code",
      "source": [
        "# Load your adjacency matrix from CSV\n",
        "adjacency_df = pd.read_csv(\"FoodProducts_AdjacencyMatrix.csv\", index_col=0)  # Assuming row names are in the first column\n",
        "adjacency = adjacency_df.values  # Extract the numeric values from DataFrame\n"
      ],
      "metadata": {
        "id": "uFIL1uvN4cKh"
      },
      "execution_count": null,
      "outputs": []
    },
    {
      "cell_type": "code",
      "source": [
        "resolution_values = np.arange(0.5, 3.1, 0.1).tolist()\n",
        "mod = []\n",
        "for r in resolution_values:\n",
        "  resolution_parameter = r # Adjust the resolution parameter as needed\n",
        "  louvain = Louvain(resolution=resolution_parameter)\n",
        "  labels = louvain.fit_predict(adjacency)\n",
        "  labels_unique, counts = np.unique(labels, return_counts=True)\n",
        "  mod.append(get_modularity(adjacency, labels))\n",
        "\n",
        "# Find the maximum value in the list\n",
        "max_mod = max(mod)\n",
        "\n",
        "# Find the index of the maximum value in the list\n",
        "max_index = mod.index(max_mod)\n",
        "r_max = resolution_values[max_index]\n",
        "\n",
        "print(f\"Resolution yielding maximum modularity is {r_max}\")\n",
        "resolution_parameter = r_max # Adjust the resolution parameter as needed\n",
        "louvain = Louvain(resolution=resolution_parameter)\n",
        "labels = louvain.fit_predict(adjacency)\n",
        "labels_unique, counts = np.unique(labels, return_counts=True)\n",
        "mod.append(get_modularity(adjacency, labels))\n",
        "print(labels_unique, counts)\n",
        "print(get_modularity(adjacency, labels))"
      ],
      "metadata": {
        "colab": {
          "base_uri": "https://localhost:8080/"
        },
        "id": "Bv6by7FT4cKi",
        "outputId": "d98615b6-a501-4234-b601-90b16eedcf8b"
      },
      "execution_count": null,
      "outputs": [
        {
          "output_type": "stream",
          "name": "stdout",
          "text": [
            "Resolution yielding maximum modularity is 0.9999999999999999\n",
            "[0 1 2 3 4] [82 65 42 40 15]\n",
            "0.3571573315448479\n"
          ]
        }
      ]
    },
    {
      "cell_type": "code",
      "source": [
        "country_communities_df = pd.DataFrame({\n",
        "    'Country': adjacency_df.index,\n",
        "    'Community': labels\n",
        "})\n",
        "\n",
        "country_communities_df.to_csv(\"Louvain_FoodProducts.csv\", index=False)\n",
        "files.download(\"Louvain_FoodProducts.csv\")"
      ],
      "metadata": {
        "colab": {
          "base_uri": "https://localhost:8080/",
          "height": 17
        },
        "outputId": "8e157a3c-656d-4f5f-fe32-c62b9e763fe9",
        "id": "4BDK734M4cKj"
      },
      "execution_count": null,
      "outputs": [
        {
          "output_type": "display_data",
          "data": {
            "text/plain": [
              "<IPython.core.display.Javascript object>"
            ],
            "application/javascript": [
              "\n",
              "    async function download(id, filename, size) {\n",
              "      if (!google.colab.kernel.accessAllowed) {\n",
              "        return;\n",
              "      }\n",
              "      const div = document.createElement('div');\n",
              "      const label = document.createElement('label');\n",
              "      label.textContent = `Downloading \"${filename}\": `;\n",
              "      div.appendChild(label);\n",
              "      const progress = document.createElement('progress');\n",
              "      progress.max = size;\n",
              "      div.appendChild(progress);\n",
              "      document.body.appendChild(div);\n",
              "\n",
              "      const buffers = [];\n",
              "      let downloaded = 0;\n",
              "\n",
              "      const channel = await google.colab.kernel.comms.open(id);\n",
              "      // Send a message to notify the kernel that we're ready.\n",
              "      channel.send({})\n",
              "\n",
              "      for await (const message of channel.messages) {\n",
              "        // Send a message to notify the kernel that we're ready.\n",
              "        channel.send({})\n",
              "        if (message.buffers) {\n",
              "          for (const buffer of message.buffers) {\n",
              "            buffers.push(buffer);\n",
              "            downloaded += buffer.byteLength;\n",
              "            progress.value = downloaded;\n",
              "          }\n",
              "        }\n",
              "      }\n",
              "      const blob = new Blob(buffers, {type: 'application/binary'});\n",
              "      const a = document.createElement('a');\n",
              "      a.href = window.URL.createObjectURL(blob);\n",
              "      a.download = filename;\n",
              "      div.appendChild(a);\n",
              "      a.click();\n",
              "      div.remove();\n",
              "    }\n",
              "  "
            ]
          },
          "metadata": {}
        },
        {
          "output_type": "display_data",
          "data": {
            "text/plain": [
              "<IPython.core.display.Javascript object>"
            ],
            "application/javascript": [
              "download(\"download_b9a63823-3180-450b-b546-097a6db88680\", \"Louvain_FoodProducts.csv\", 3254)"
            ]
          },
          "metadata": {}
        }
      ]
    },
    {
      "cell_type": "markdown",
      "source": [
        "# Fuels"
      ],
      "metadata": {
        "id": "QXZkiepb5rrT"
      }
    },
    {
      "cell_type": "code",
      "source": [
        "# Load your adjacency matrix from CSV\n",
        "adjacency_df = pd.read_csv(\"Fuels_AdjacencyMatrix.csv\", index_col=0)  # Assuming row names are in the first column\n",
        "adjacency = adjacency_df.values  # Extract the numeric values from DataFrame\n"
      ],
      "metadata": {
        "id": "N7grrMhZ5uhQ"
      },
      "execution_count": null,
      "outputs": []
    },
    {
      "cell_type": "code",
      "source": [
        "resolution_values = np.arange(0.5, 3.1, 0.1).tolist()\n",
        "mod = []\n",
        "for r in resolution_values:\n",
        "  resolution_parameter = r # Adjust the resolution parameter as needed\n",
        "  louvain = Louvain(resolution=resolution_parameter)\n",
        "  labels = louvain.fit_predict(adjacency)\n",
        "  labels_unique, counts = np.unique(labels, return_counts=True)\n",
        "  mod.append(get_modularity(adjacency, labels))\n",
        "\n",
        "# Find the maximum value in the list\n",
        "max_mod = max(mod)\n",
        "\n",
        "# Find the index of the maximum value in the list\n",
        "max_index = mod.index(max_mod)\n",
        "r_max = resolution_values[max_index]\n",
        "\n",
        "print(f\"Resolution yielding maximum modularity is {r_max}\")\n",
        "resolution_parameter = r_max # Adjust the resolution parameter as needed\n",
        "louvain = Louvain(resolution=resolution_parameter)\n",
        "labels = louvain.fit_predict(adjacency)\n",
        "labels_unique, counts = np.unique(labels, return_counts=True)\n",
        "mod.append(get_modularity(adjacency, labels))\n",
        "print(labels_unique, counts)\n",
        "print(get_modularity(adjacency, labels))"
      ],
      "metadata": {
        "colab": {
          "base_uri": "https://localhost:8080/"
        },
        "outputId": "ef7ff24d-8803-423c-8cbc-809aa61dc05a",
        "id": "hnOlmo2e5uhQ"
      },
      "execution_count": null,
      "outputs": [
        {
          "output_type": "stream",
          "name": "stdout",
          "text": [
            "Resolution yielding maximum modularity is 0.8999999999999999\n",
            "[0 1 2 3 4] [82 52 49 35 24]\n",
            "0.4043852803739548\n"
          ]
        }
      ]
    },
    {
      "cell_type": "code",
      "source": [
        "country_communities_df = pd.DataFrame({\n",
        "    'Country': adjacency_df.index,\n",
        "    'Community': labels\n",
        "})\n",
        "\n",
        "country_communities_df.to_csv(\"Louvain_Fuels.csv\", index=False)\n",
        "files.download(\"Louvain_Fuels.csv\")"
      ],
      "metadata": {
        "colab": {
          "base_uri": "https://localhost:8080/",
          "height": 17
        },
        "outputId": "5db163e4-8a7d-4c8f-d476-be0017fd9b5e",
        "id": "GqSJ1vzS5uhQ"
      },
      "execution_count": null,
      "outputs": [
        {
          "output_type": "display_data",
          "data": {
            "text/plain": [
              "<IPython.core.display.Javascript object>"
            ],
            "application/javascript": [
              "\n",
              "    async function download(id, filename, size) {\n",
              "      if (!google.colab.kernel.accessAllowed) {\n",
              "        return;\n",
              "      }\n",
              "      const div = document.createElement('div');\n",
              "      const label = document.createElement('label');\n",
              "      label.textContent = `Downloading \"${filename}\": `;\n",
              "      div.appendChild(label);\n",
              "      const progress = document.createElement('progress');\n",
              "      progress.max = size;\n",
              "      div.appendChild(progress);\n",
              "      document.body.appendChild(div);\n",
              "\n",
              "      const buffers = [];\n",
              "      let downloaded = 0;\n",
              "\n",
              "      const channel = await google.colab.kernel.comms.open(id);\n",
              "      // Send a message to notify the kernel that we're ready.\n",
              "      channel.send({})\n",
              "\n",
              "      for await (const message of channel.messages) {\n",
              "        // Send a message to notify the kernel that we're ready.\n",
              "        channel.send({})\n",
              "        if (message.buffers) {\n",
              "          for (const buffer of message.buffers) {\n",
              "            buffers.push(buffer);\n",
              "            downloaded += buffer.byteLength;\n",
              "            progress.value = downloaded;\n",
              "          }\n",
              "        }\n",
              "      }\n",
              "      const blob = new Blob(buffers, {type: 'application/binary'});\n",
              "      const a = document.createElement('a');\n",
              "      a.href = window.URL.createObjectURL(blob);\n",
              "      a.download = filename;\n",
              "      div.appendChild(a);\n",
              "      a.click();\n",
              "      div.remove();\n",
              "    }\n",
              "  "
            ]
          },
          "metadata": {}
        },
        {
          "output_type": "display_data",
          "data": {
            "text/plain": [
              "<IPython.core.display.Javascript object>"
            ],
            "application/javascript": [
              "download(\"download_e8e07040-c015-42e6-a1ff-2838e07cacff\", \"Louvain_Fuels.csv\", 3223)"
            ]
          },
          "metadata": {}
        }
      ]
    },
    {
      "cell_type": "markdown",
      "source": [
        "# Ores"
      ],
      "metadata": {
        "id": "XZQqNDIL55zR"
      }
    },
    {
      "cell_type": "code",
      "source": [
        "# Load your adjacency matrix from CSV\n",
        "adjacency_df = pd.read_csv(\"OresMets_AdjacencyMatrix.csv\", index_col=0)  # Assuming row names are in the first column\n",
        "adjacency = adjacency_df.values  # Extract the numeric values from DataFrame\n"
      ],
      "metadata": {
        "id": "1dD3vlMR58cH"
      },
      "execution_count": null,
      "outputs": []
    },
    {
      "cell_type": "code",
      "source": [
        "resolution_values = np.arange(0.5, 3.1, 0.1).tolist()\n",
        "mod = []\n",
        "for r in resolution_values:\n",
        "  resolution_parameter = r # Adjust the resolution parameter as needed\n",
        "  louvain = Louvain(resolution=resolution_parameter)\n",
        "  labels = louvain.fit_predict(adjacency)\n",
        "  labels_unique, counts = np.unique(labels, return_counts=True)\n",
        "  mod.append(get_modularity(adjacency, labels))\n",
        "\n",
        "# Find the maximum value in the list\n",
        "max_mod = max(mod)\n",
        "\n",
        "# Find the index of the maximum value in the list\n",
        "max_index = mod.index(max_mod)\n",
        "r_max = resolution_values[max_index]\n",
        "\n",
        "print(f\"Resolution yielding maximum modularity is {r_max}\")\n",
        "resolution_parameter = r_max # Adjust the resolution parameter as needed\n",
        "louvain = Louvain(resolution=resolution_parameter)\n",
        "labels = louvain.fit_predict(adjacency)\n",
        "labels_unique, counts = np.unique(labels, return_counts=True)\n",
        "mod.append(get_modularity(adjacency, labels))\n",
        "print(labels_unique, counts)\n",
        "print(get_modularity(adjacency, labels))"
      ],
      "metadata": {
        "colab": {
          "base_uri": "https://localhost:8080/"
        },
        "outputId": "ccd81d2e-980a-4343-c0ea-d0a68babf3ed",
        "id": "oMMC4oh-58cH"
      },
      "execution_count": null,
      "outputs": [
        {
          "output_type": "stream",
          "name": "stdout",
          "text": [
            "Resolution yielding maximum modularity is 0.8999999999999999\n",
            "[0 1 2 3] [94 71 39 38]\n",
            "0.33126065262957133\n"
          ]
        }
      ]
    },
    {
      "cell_type": "code",
      "source": [
        "country_communities_df = pd.DataFrame({\n",
        "    'Country': adjacency_df.index,\n",
        "    'Community': labels\n",
        "})\n",
        "\n",
        "country_communities_df.to_csv(\"Louvain_OresMets.csv\", index=False)\n",
        "files.download(\"Louvain_OresMets.csv\")"
      ],
      "metadata": {
        "colab": {
          "base_uri": "https://localhost:8080/",
          "height": 17
        },
        "outputId": "b1d9eabf-1b44-4d3a-d4e6-94f915254b13",
        "id": "zTOyXELG58cI"
      },
      "execution_count": null,
      "outputs": [
        {
          "output_type": "display_data",
          "data": {
            "text/plain": [
              "<IPython.core.display.Javascript object>"
            ],
            "application/javascript": [
              "\n",
              "    async function download(id, filename, size) {\n",
              "      if (!google.colab.kernel.accessAllowed) {\n",
              "        return;\n",
              "      }\n",
              "      const div = document.createElement('div');\n",
              "      const label = document.createElement('label');\n",
              "      label.textContent = `Downloading \"${filename}\": `;\n",
              "      div.appendChild(label);\n",
              "      const progress = document.createElement('progress');\n",
              "      progress.max = size;\n",
              "      div.appendChild(progress);\n",
              "      document.body.appendChild(div);\n",
              "\n",
              "      const buffers = [];\n",
              "      let downloaded = 0;\n",
              "\n",
              "      const channel = await google.colab.kernel.comms.open(id);\n",
              "      // Send a message to notify the kernel that we're ready.\n",
              "      channel.send({})\n",
              "\n",
              "      for await (const message of channel.messages) {\n",
              "        // Send a message to notify the kernel that we're ready.\n",
              "        channel.send({})\n",
              "        if (message.buffers) {\n",
              "          for (const buffer of message.buffers) {\n",
              "            buffers.push(buffer);\n",
              "            downloaded += buffer.byteLength;\n",
              "            progress.value = downloaded;\n",
              "          }\n",
              "        }\n",
              "      }\n",
              "      const blob = new Blob(buffers, {type: 'application/binary'});\n",
              "      const a = document.createElement('a');\n",
              "      a.href = window.URL.createObjectURL(blob);\n",
              "      a.download = filename;\n",
              "      div.appendChild(a);\n",
              "      a.click();\n",
              "      div.remove();\n",
              "    }\n",
              "  "
            ]
          },
          "metadata": {}
        },
        {
          "output_type": "display_data",
          "data": {
            "text/plain": [
              "<IPython.core.display.Javascript object>"
            ],
            "application/javascript": [
              "download(\"download_8f672b5e-3244-4328-b857-3fb13f4b6f67\", \"Louvain_OresMets.csv\", 3205)"
            ]
          },
          "metadata": {}
        }
      ]
    },
    {
      "cell_type": "markdown",
      "source": [
        "# Aggregated"
      ],
      "metadata": {
        "id": "r57VuLewPufl"
      }
    },
    {
      "cell_type": "code",
      "source": [
        "# Load your adjacency matrix from CSV\n",
        "adjacency_df = pd.read_csv(\"Community_sharing_across_products_Python.csv\", index_col=0)  # Assuming row names are in the first column\n",
        "adjacency = adjacency_df.values  # Extract the numeric values from DataFrame\n"
      ],
      "metadata": {
        "id": "A9c47qIYP1BM"
      },
      "execution_count": null,
      "outputs": []
    },
    {
      "cell_type": "code",
      "source": [
        "resolution_values = np.arange(0.5, 3.1, 0.1).tolist()\n",
        "mod = []\n",
        "for r in resolution_values:\n",
        "  resolution_parameter = r # Adjust the resolution parameter as needed\n",
        "  louvain = Louvain(resolution=resolution_parameter)\n",
        "  labels = louvain.fit_predict(adjacency)\n",
        "  labels_unique, counts = np.unique(labels, return_counts=True)\n",
        "  mod.append(get_modularity(adjacency, labels))\n",
        "  print(f\"Resolution = {r}\")\n",
        "  print(labels_unique, counts)\n",
        "  print(get_modularity(adjacency, labels))\n",
        "  print(\"-------------\")\n",
        "# Find the maximum value in the list\n",
        "max_mod = max(mod)\n",
        "\n",
        "# Find the index of the maximum value in the list\n",
        "max_index = mod.index(max_mod)\n",
        "r_max = resolution_values[max_index]\n",
        "\n",
        "print(f\"Resolution yielding maximum modularity is {r_max}\")\n",
        "resolution_parameter = r_max # Adjust the resolution parameter as needed\n",
        "louvain = Louvain(resolution=resolution_parameter)\n",
        "labels = louvain.fit_predict(adjacency)\n",
        "labels_unique, counts = np.unique(labels, return_counts=True)\n",
        "mod.append(get_modularity(adjacency, labels))\n",
        "print(labels_unique, counts)\n",
        "print(get_modularity(adjacency, labels))"
      ],
      "metadata": {
        "id": "u13LS_F8P1BN"
      },
      "execution_count": null,
      "outputs": []
    },
    {
      "cell_type": "code",
      "source": [
        "resolution_parameter = 1.1 # Adjust the resolution parameter as needed\n",
        "louvain = Louvain(resolution=resolution_parameter)\n",
        "labels = louvain.fit_predict(adjacency)\n",
        "labels_unique, counts = np.unique(labels, return_counts=True)\n",
        "mod.append(get_modularity(adjacency, labels))\n",
        "print(labels_unique, counts)\n",
        "print(get_modularity(adjacency, labels))"
      ],
      "metadata": {
        "colab": {
          "base_uri": "https://localhost:8080/"
        },
        "id": "M4OZNn7_TL2a",
        "outputId": "91882f3b-f3ea-4906-de65-4d4cd9a86311"
      },
      "execution_count": null,
      "outputs": [
        {
          "output_type": "stream",
          "name": "stdout",
          "text": [
            "[0 1 2 3] [86 59 49 47]\n",
            "0.33545943470246664\n"
          ]
        }
      ]
    },
    {
      "cell_type": "code",
      "source": [
        "country_communities_df = pd.DataFrame({\n",
        "    'Country': adjacency_df.index,\n",
        "    'Community': labels\n",
        "})\n",
        "\n",
        "country_communities_df.to_csv(\"Louvain_Aggregated.csv\", index=False)\n",
        "files.download(\"Louvain_Aggregated.csv\")"
      ],
      "metadata": {
        "colab": {
          "base_uri": "https://localhost:8080/",
          "height": 17
        },
        "outputId": "f23879f9-511c-4c41-a4e0-008a07d9932e",
        "id": "4F0yeD5fP1BN"
      },
      "execution_count": null,
      "outputs": [
        {
          "output_type": "display_data",
          "data": {
            "text/plain": [
              "<IPython.core.display.Javascript object>"
            ],
            "application/javascript": [
              "\n",
              "    async function download(id, filename, size) {\n",
              "      if (!google.colab.kernel.accessAllowed) {\n",
              "        return;\n",
              "      }\n",
              "      const div = document.createElement('div');\n",
              "      const label = document.createElement('label');\n",
              "      label.textContent = `Downloading \"${filename}\": `;\n",
              "      div.appendChild(label);\n",
              "      const progress = document.createElement('progress');\n",
              "      progress.max = size;\n",
              "      div.appendChild(progress);\n",
              "      document.body.appendChild(div);\n",
              "\n",
              "      const buffers = [];\n",
              "      let downloaded = 0;\n",
              "\n",
              "      const channel = await google.colab.kernel.comms.open(id);\n",
              "      // Send a message to notify the kernel that we're ready.\n",
              "      channel.send({})\n",
              "\n",
              "      for await (const message of channel.messages) {\n",
              "        // Send a message to notify the kernel that we're ready.\n",
              "        channel.send({})\n",
              "        if (message.buffers) {\n",
              "          for (const buffer of message.buffers) {\n",
              "            buffers.push(buffer);\n",
              "            downloaded += buffer.byteLength;\n",
              "            progress.value = downloaded;\n",
              "          }\n",
              "        }\n",
              "      }\n",
              "      const blob = new Blob(buffers, {type: 'application/binary'});\n",
              "      const a = document.createElement('a');\n",
              "      a.href = window.URL.createObjectURL(blob);\n",
              "      a.download = filename;\n",
              "      div.appendChild(a);\n",
              "      a.click();\n",
              "      div.remove();\n",
              "    }\n",
              "  "
            ]
          },
          "metadata": {}
        },
        {
          "output_type": "display_data",
          "data": {
            "text/plain": [
              "<IPython.core.display.Javascript object>"
            ],
            "application/javascript": [
              "download(\"download_994901e6-3622-48bd-bff5-45dc6c834ca4\", \"Louvain_Aggregated.csv\", 3190)"
            ]
          },
          "metadata": {}
        }
      ]
    },
    {
      "cell_type": "markdown",
      "source": [
        "# Multi-Layer Community Detection"
      ],
      "metadata": {
        "id": "akmLaFarA0NB"
      }
    },
    {
      "cell_type": "code",
      "source": [
        "agric = pd.read_csv(\"Agric_AdjacencyMatrix_Standard.csv\", index_col=0, encoding='latin-1')\n",
        "foodprod = pd.read_csv(\"FoodProducts_AdjacencyMatrix_Standard.csv\", index_col=0, encoding='latin-1')\n",
        "fuels = pd.read_csv(\"Fuels_AdjacencyMatrix_Standard.csv\", index_col=0, encoding='latin-1')\n",
        "ores = pd.read_csv(\"OresMets_AdjacencyMatrix_Standard.csv\", index_col=0, encoding='latin-1')"
      ],
      "metadata": {
        "id": "w_4SXp-MBMzT"
      },
      "execution_count": null,
      "outputs": []
    },
    {
      "cell_type": "code",
      "source": [
        "from igraph import Graph"
      ],
      "metadata": {
        "id": "LQPtz2LaDzFm"
      },
      "execution_count": null,
      "outputs": []
    },
    {
      "cell_type": "code",
      "source": [
        "# Convert adjacency matrices to igraph Graph objects\n",
        "graph_agric = Graph.Adjacency((agric.values > 0).tolist(), mode=\"directed\")\n",
        "graph_foodprod = Graph.Adjacency((foodprod.values > 0).tolist(), mode=\"directed\")\n",
        "graph_fuels = Graph.Adjacency((fuels.values > 0).tolist(), mode=\"directed\")\n",
        "graph_ores = Graph.Adjacency((ores.values > 0).tolist(), mode=\"directed\")\n",
        "\n",
        "# Set vertex names\n",
        "graph_agric.vs[\"name\"] = agric.index\n",
        "graph_foodprod.vs[\"name\"] = foodprod.index\n",
        "graph_fuels.vs[\"name\"] = fuels.index\n",
        "graph_ores.vs[\"name\"] = ores.index\n"
      ],
      "metadata": {
        "id": "GAffuLD3Dctx"
      },
      "execution_count": null,
      "outputs": []
    },
    {
      "cell_type": "code",
      "source": [
        "agric.index"
      ],
      "metadata": {
        "colab": {
          "base_uri": "https://localhost:8080/"
        },
        "id": "wtmROddqFPtY",
        "outputId": "687b0aed-b56c-4777-85b8-788944e18196"
      },
      "execution_count": null,
      "outputs": [
        {
          "output_type": "execute_result",
          "data": {
            "text/plain": [
              "Index(['Afghanistan', 'Albania', 'Algeria', 'American Samoa', 'Andorra',\n",
              "       'Angola', 'Anguila', 'Antarctica', 'Antigua and Barbuda', 'Argentina',\n",
              "       ...\n",
              "       'Uruguay', 'Uzbekistan', 'Vanuatu', 'Venezuela', 'Vietnam',\n",
              "       'Wallis and Futura Isl.', 'Western Sahara', 'Yemen', 'Zambia',\n",
              "       'Zimbabwe'],\n",
              "      dtype='object', length=241)"
            ]
          },
          "metadata": {},
          "execution_count": 57
        }
      ]
    },
    {
      "cell_type": "code",
      "source": [
        "agric1 = agric.to_numpy()\n",
        "foodprod1 = foodprod.to_numpy()\n",
        "fuels1 = fuels.to_numpy()\n",
        "ores1 = ores.to_numpy()\n",
        "\n",
        "\n",
        "# Create a directed graph from the adjacency matrix\n",
        "g_agric = nx.DiGraph(agric1)\n",
        "g_foodprod = nx.DiGraph(foodprod1)\n",
        "g_fuels = nx.DiGraph(fuels1)\n",
        "g_ores = nx.DiGraph(ores1)"
      ],
      "metadata": {
        "id": "pkEWNluBBjGh"
      },
      "execution_count": null,
      "outputs": []
    },
    {
      "cell_type": "code",
      "source": [
        "sum_agric = np.sum(agric1)\n",
        "sum_foodprod = np.sum(foodprod1)\n",
        "sum_fuels = np.sum(fuels1)\n",
        "sum_ores = np.sum(ores1)\n",
        "\n",
        "sum_total = sum_agric+sum_foodprod+sum_fuels+sum_ores\n",
        "\n",
        "weights = [sum_agric/sum_total,sum_foodprod/sum_total, sum_fuels/sum_total, sum_ores/sum_total]\n",
        "print(weights)"
      ],
      "metadata": {
        "colab": {
          "base_uri": "https://localhost:8080/"
        },
        "id": "HXxyDOuIGFX9",
        "outputId": "67ad2bc9-619d-4529-a561-a54c6b22b8a7"
      },
      "execution_count": null,
      "outputs": [
        {
          "output_type": "stream",
          "name": "stdout",
          "text": [
            "[0.06709868310239903, 0.17948852114100575, 0.48164316763648835, 0.2717696281201068]\n"
          ]
        }
      ]
    },
    {
      "cell_type": "code",
      "source": [
        "optimiser = la.Optimiser()"
      ],
      "metadata": {
        "id": "57TUhzaQAyQJ"
      },
      "execution_count": null,
      "outputs": []
    },
    {
      "cell_type": "code",
      "source": [
        "membership, improv = la.find_partition_multiplex(\n",
        "                       [graph_agric, graph_foodprod, graph_fuels, graph_ores],\n",
        "                       la.ModularityVertexPartition)#,\n",
        "                       #layer_weights=weights)"
      ],
      "metadata": {
        "id": "EKm154FgCPap"
      },
      "execution_count": null,
      "outputs": []
    },
    {
      "cell_type": "code",
      "source": [
        "country_communities_df = pd.DataFrame({\n",
        "    'Country': agric.index,\n",
        "    'Community': membership\n",
        "})\n",
        "country_communities_df.to_csv(\"Generalized_Louvain_Aggregated.csv\", index=False)\n",
        "#files.download(\"Generalized_Louvain_Aggregated.csv\")"
      ],
      "metadata": {
        "colab": {
          "base_uri": "https://localhost:8080/",
          "height": 17
        },
        "id": "AfB5PxwbFUD1",
        "outputId": "50056031-3776-4e0c-f74d-2c87f7b96c39"
      },
      "execution_count": null,
      "outputs": [
        {
          "output_type": "display_data",
          "data": {
            "text/plain": [
              "<IPython.core.display.Javascript object>"
            ],
            "application/javascript": [
              "\n",
              "    async function download(id, filename, size) {\n",
              "      if (!google.colab.kernel.accessAllowed) {\n",
              "        return;\n",
              "      }\n",
              "      const div = document.createElement('div');\n",
              "      const label = document.createElement('label');\n",
              "      label.textContent = `Downloading \"${filename}\": `;\n",
              "      div.appendChild(label);\n",
              "      const progress = document.createElement('progress');\n",
              "      progress.max = size;\n",
              "      div.appendChild(progress);\n",
              "      document.body.appendChild(div);\n",
              "\n",
              "      const buffers = [];\n",
              "      let downloaded = 0;\n",
              "\n",
              "      const channel = await google.colab.kernel.comms.open(id);\n",
              "      // Send a message to notify the kernel that we're ready.\n",
              "      channel.send({})\n",
              "\n",
              "      for await (const message of channel.messages) {\n",
              "        // Send a message to notify the kernel that we're ready.\n",
              "        channel.send({})\n",
              "        if (message.buffers) {\n",
              "          for (const buffer of message.buffers) {\n",
              "            buffers.push(buffer);\n",
              "            downloaded += buffer.byteLength;\n",
              "            progress.value = downloaded;\n",
              "          }\n",
              "        }\n",
              "      }\n",
              "      const blob = new Blob(buffers, {type: 'application/binary'});\n",
              "      const a = document.createElement('a');\n",
              "      a.href = window.URL.createObjectURL(blob);\n",
              "      a.download = filename;\n",
              "      div.appendChild(a);\n",
              "      a.click();\n",
              "      div.remove();\n",
              "    }\n",
              "  "
            ]
          },
          "metadata": {}
        },
        {
          "output_type": "display_data",
          "data": {
            "text/plain": [
              "<IPython.core.display.Javascript object>"
            ],
            "application/javascript": [
              "download(\"download_b6cf4370-2d84-4a8f-8493-ec78a31a3716\", \"Generalized_Louvain_Aggregated.csv\", 3194)"
            ]
          },
          "metadata": {}
        }
      ]
    },
    {
      "cell_type": "code",
      "source": [
        "print(improv)\n",
        "print(country_communities_df)"
      ],
      "metadata": {
        "colab": {
          "base_uri": "https://localhost:8080/"
        },
        "id": "iT3IQ-qfFX3d",
        "outputId": "da689ff0-3435-4222-e667-33ebb8bd2ff5"
      },
      "execution_count": null,
      "outputs": [
        {
          "output_type": "stream",
          "name": "stdout",
          "text": [
            "                    Country  Community\n",
            "0               Afghanistan          1\n",
            "1                   Albania          1\n",
            "2                   Algeria          1\n",
            "3            American Samoa          3\n",
            "4                   Andorra          2\n",
            "..                      ...        ...\n",
            "236  Wallis and Futura Isl.          3\n",
            "237          Western Sahara          3\n",
            "238                   Yemen          1\n",
            "239                  Zambia          3\n",
            "240                Zimbabwe          2\n",
            "\n",
            "[241 rows x 2 columns]\n"
          ]
        }
      ]
    }
  ]
}